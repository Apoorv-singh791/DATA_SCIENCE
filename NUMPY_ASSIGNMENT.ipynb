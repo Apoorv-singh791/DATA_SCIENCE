{
 "cells": [
  {
   "cell_type": "code",
   "execution_count": 9,
   "id": "98d8e81f-1ec1-4c31-9df5-37f78df0c097",
   "metadata": {},
   "outputs": [],
   "source": [
    "import numpy as np\n",
    "list_ = [ '1' , '2' , '3' , '4' , '5' ]\n",
    "array_list = np.array(object = list_)"
   ]
  },
  {
   "cell_type": "markdown",
   "id": "515d04a5-4b96-43d2-a01a-f2502bdec95e",
   "metadata": {},
   "source": [
    "Q1. Is there any difference in the data type of variables list_ and array_list? If there is then write a code\n",
    "to print the data types of both the variables."
   ]
  },
  {
   "cell_type": "markdown",
   "id": "93ffcbbf-0ce5-457d-848f-342e5c6349cf",
   "metadata": {},
   "source": [
    "A1. yes there is difference in the data type of variable list_ and array_list :"
   ]
  },
  {
   "cell_type": "code",
   "execution_count": 14,
   "id": "cb5e7093-fcee-455a-ade1-fc79ea53977b",
   "metadata": {},
   "outputs": [
    {
     "data": {
      "text/plain": [
       "list"
      ]
     },
     "execution_count": 14,
     "metadata": {},
     "output_type": "execute_result"
    }
   ],
   "source": [
    "type(list_)"
   ]
  },
  {
   "cell_type": "code",
   "execution_count": 15,
   "id": "aee2436b-d4c8-4ae2-91be-32b578050e47",
   "metadata": {},
   "outputs": [
    {
     "data": {
      "text/plain": [
       "numpy.ndarray"
      ]
     },
     "execution_count": 15,
     "metadata": {},
     "output_type": "execute_result"
    }
   ],
   "source": [
    "type(array_list)"
   ]
  },
  {
   "cell_type": "markdown",
   "id": "f0e77f1f-c04d-4d3f-88e7-08c0cf50a5ef",
   "metadata": {},
   "source": [
    "Q2. Write a code to print the data type of each and every element of both the variables list_ and\n",
    "arra_list."
   ]
  },
  {
   "cell_type": "code",
   "execution_count": 22,
   "id": "e99fae9d-3325-4cea-b445-c7b182df005f",
   "metadata": {},
   "outputs": [
    {
     "name": "stdout",
     "output_type": "stream",
     "text": [
      "THE DATA TYPE OF THE ELEMENTS OF list_ are : \n",
      "<class 'str'>\n",
      "<class 'str'>\n",
      "<class 'str'>\n",
      "<class 'str'>\n",
      "<class 'str'>\n",
      "THE DATA TYPE OF THE ELEMENTS OF array_list are : \n",
      "<class 'numpy.int64'>\n",
      "<class 'numpy.int64'>\n",
      "<class 'numpy.int64'>\n",
      "<class 'numpy.int64'>\n",
      "<class 'numpy.int64'>\n"
     ]
    }
   ],
   "source": [
    "print(\"THE DATA TYPE OF THE ELEMENTS OF list_ are : \")\n",
    "for i in list_:\n",
    "    print(type(i))\n",
    "print(\"THE DATA TYPE OF THE ELEMENTS OF array_list are : \")\n",
    "for i in array_list:\n",
    "    print(type(i))"
   ]
  },
  {
   "cell_type": "markdown",
   "id": "4e90d39b-94f4-4d5a-aa38-f0d97d5851cb",
   "metadata": {},
   "source": [
    "Q3. Considering the following changes in the variable, array_list:                                                                                     \n",
    "array_list = np.array(object = list_, dtype = int)                                                                                                     \n",
    "Will there be any difference in the data type of the elements present in both the variables, list_ and                                                 \n",
    "arra_list? If so then print the data types of each and every element present in both the variables, list_                                               \n",
    "and arra_list."
   ]
  },
  {
   "cell_type": "code",
   "execution_count": 23,
   "id": "2c29da42-d3f9-4d13-b251-5dba22a19699",
   "metadata": {},
   "outputs": [],
   "source": [
    "array_list = np.array(object = list_, dtype = int)"
   ]
  },
  {
   "cell_type": "markdown",
   "id": "06b919d4-82f8-4a5b-9cf6-9543f6f6238b",
   "metadata": {},
   "source": [
    "yes , there will be difference in the data type of the elements of array_list . after executing the above line of code the datatype of the elements of array_list will be intiger and the data type of the elemnts of list_ will be string "
   ]
  },
  {
   "cell_type": "code",
   "execution_count": 26,
   "id": "1839dda6-ca5e-468f-a93b-26bf2b665b18",
   "metadata": {},
   "outputs": [
    {
     "name": "stdout",
     "output_type": "stream",
     "text": [
      "THE DATA TYPE OF THE ELEMENTS OF array_list are : \n",
      "<class 'numpy.int64'>\n",
      "<class 'numpy.int64'>\n",
      "<class 'numpy.int64'>\n",
      "<class 'numpy.int64'>\n",
      "<class 'numpy.int64'>\n"
     ]
    }
   ],
   "source": [
    "print(\"THE DATA TYPE OF THE ELEMENTS OF array_list are : \")\n",
    "for i in array_list:\n",
    "    print(type(i))"
   ]
  },
  {
   "cell_type": "code",
   "execution_count": 27,
   "id": "1be17da2-578d-48b1-95b9-14a9e35c870b",
   "metadata": {},
   "outputs": [
    {
     "name": "stdout",
     "output_type": "stream",
     "text": [
      "THE DATA TYPE OF THE ELEMENTS OF list_ are : \n",
      "<class 'str'>\n",
      "<class 'str'>\n",
      "<class 'str'>\n",
      "<class 'str'>\n",
      "<class 'str'>\n"
     ]
    }
   ],
   "source": [
    "print(\"THE DATA TYPE OF THE ELEMENTS OF list_ are : \")\n",
    "for i in list_:\n",
    "    print(type(i))"
   ]
  },
  {
   "cell_type": "markdown",
   "id": "81f333f9-9bc3-488c-a6b5-3d1ada87716d",
   "metadata": {},
   "source": [
    "Consider the below code to answer further questions:                                                                                                   \n",
    "import numpy as np                                                                                                                                     \n",
    "num_list = [ [ 1 , 2 , 3 ] , [ 4 , 5 , 6 ] ]                                                                                                           \n",
    "num_array = np.array(object = num_list)                                                                                                                 \n",
    "Q4. Write a code to find the following characteristics of variable, num_array:                                                                         \n",
    "(i) shape                                                                                                                                               \n",
    "(ii) size"
   ]
  },
  {
   "cell_type": "code",
   "execution_count": null,
   "id": "3e154bff-6b04-42e0-8c4d-338f9fc9d063",
   "metadata": {},
   "outputs": [],
   "source": [
    "import numpy as np\n",
    "num_list = [ [ 1 , 2 , 3 ] , [ 4 , 5 , 6 ] ]\n",
    "num_array = np.array(object = num_list)"
   ]
  },
  {
   "cell_type": "code",
   "execution_count": 29,
   "id": "fa382922-d762-425b-9fe1-0301e6f2b533",
   "metadata": {},
   "outputs": [
    {
     "data": {
      "text/plain": [
       "(2, 3)"
      ]
     },
     "execution_count": 29,
     "metadata": {},
     "output_type": "execute_result"
    }
   ],
   "source": [
    "np. shape(num_list)"
   ]
  },
  {
   "cell_type": "code",
   "execution_count": 31,
   "id": "d6556c1e-015e-4331-9d47-ce1297d9257a",
   "metadata": {},
   "outputs": [
    {
     "data": {
      "text/plain": [
       "6"
      ]
     },
     "execution_count": 31,
     "metadata": {},
     "output_type": "execute_result"
    }
   ],
   "source": [
    "np.size(num_list)"
   ]
  },
  {
   "cell_type": "markdown",
   "id": "74b7e3b4-316f-472a-88fa-e89b52c8b1e4",
   "metadata": {},
   "source": [
    "Q5. Write a code to create numpy array of 3*3 matrix containing zeros only, using a numpy array\n",
    "creation function.\n",
    "[Hint: The size of the array will be 9 and the shape will be (3,3).]"
   ]
  },
  {
   "cell_type": "code",
   "execution_count": 36,
   "id": "0eac2fef-3d8c-4b69-88f8-b1309fc72ae6",
   "metadata": {},
   "outputs": [
    {
     "data": {
      "text/plain": [
       "array([[0., 0., 0.],\n",
       "       [0., 0., 0.],\n",
       "       [0., 0., 0.]])"
      ]
     },
     "execution_count": 36,
     "metadata": {},
     "output_type": "execute_result"
    }
   ],
   "source": [
    "np.zeros((3,3))"
   ]
  },
  {
   "cell_type": "markdown",
   "id": "23ad3095-9322-42b3-9206-0735a12d47a5",
   "metadata": {},
   "source": [
    "Q6. Create an identity matrix of shape (5,5) using numpy functions?\n",
    "[Hint: An identity matrix is a matrix containing 1 diagonally and other elements will be 0.]"
   ]
  },
  {
   "cell_type": "code",
   "execution_count": 40,
   "id": "bebabc99-ce4b-46f3-909a-747b5a335a89",
   "metadata": {},
   "outputs": [
    {
     "data": {
      "text/plain": [
       "array([[1., 0., 0., 0., 0.],\n",
       "       [0., 1., 0., 0., 0.],\n",
       "       [0., 0., 1., 0., 0.],\n",
       "       [0., 0., 0., 1., 0.],\n",
       "       [0., 0., 0., 0., 1.]])"
      ]
     },
     "execution_count": 40,
     "metadata": {},
     "output_type": "execute_result"
    }
   ],
   "source": [
    "np.eye(5)"
   ]
  },
  {
   "cell_type": "code",
   "execution_count": null,
   "id": "91409051-dfbc-489c-a94e-883f25fab57b",
   "metadata": {},
   "outputs": [],
   "source": []
  }
 ],
 "metadata": {
  "kernelspec": {
   "display_name": "Python 3 (ipykernel)",
   "language": "python",
   "name": "python3"
  },
  "language_info": {
   "codemirror_mode": {
    "name": "ipython",
    "version": 3
   },
   "file_extension": ".py",
   "mimetype": "text/x-python",
   "name": "python",
   "nbconvert_exporter": "python",
   "pygments_lexer": "ipython3",
   "version": "3.10.8"
  }
 },
 "nbformat": 4,
 "nbformat_minor": 5
}
