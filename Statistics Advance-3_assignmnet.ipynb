{
 "cells": [
  {
   "cell_type": "markdown",
   "id": "b6a8506b-7708-4957-9cf8-5a789dd01d17",
   "metadata": {},
   "source": [
    "Q1: What is Estimation Statistics? Explain point estimate and interval estimate."
   ]
  },
  {
   "cell_type": "markdown",
   "id": "2f6d0a41-7cdc-4f9c-b5c1-4194dbce3eba",
   "metadata": {},
   "source": [
    "A1. estimation statistics is a observed numerical value used to estimate the unknown population parameters . point estimate is a single numerical value used to estimate the unknown population parameters and interval estimate is the range of values used to estimate the unknown population value "
   ]
  },
  {
   "cell_type": "markdown",
   "id": "6f6ae7a6-0ef7-4675-9ac4-2e812b9b9e9b",
   "metadata": {},
   "source": [
    "Q2. Write a Python function to estimate the population mean using a sample mean and standard\n",
    "deviation."
   ]
  },
  {
   "cell_type": "code",
   "execution_count": 3,
   "id": "b10b717e-ee90-4d73-8dff-1968ded44a52",
   "metadata": {},
   "outputs": [],
   "source": [
    "def estimate_population_mean(sample_mean, sample_std, sample_size):\n",
    "    estimated_population_mean = sample_mean * (sample_size ** 0.5) / sample_std\n",
    "    return estimated_population_mean"
   ]
  },
  {
   "cell_type": "markdown",
   "id": "796c7d3d-e7b9-44d0-8a9a-3d710c5a6e31",
   "metadata": {},
   "source": [
    "Q3: What is Hypothesis testing? Why is it used? State the importance of Hypothesis testing."
   ]
  },
  {
   "cell_type": "markdown",
   "id": "3ff22a37-8a7c-4246-ae7f-4bb796be530a",
   "metadata": {},
   "source": [
    "\n",
    "Hypothesis testing is a statistical method used to make inferences about a population parameter based on a sample of data. It involves formulating two competing hypotheses, the null hypothesis (H0) and the alternative hypothesis (H1), and then using sample data to determine which hypothesis is more likely to be true.\n",
    "\n",
    "Importance of Hypothesis Testing:\n",
    "\n",
    "Data-Driven Decision Making: Hypothesis testing enables data-driven decision making by providing a framework for evaluating the validity of assumptions and claims about population parameters.\n",
    "\n",
    "Scientific Research: It is essential in scientific research to test new theories and validate or refute scientific claims based on empirical evidence.\n",
    "\n",
    "Quality Control and Improvement: Hypothesis testing is used in quality control to determine whether changes in a production process or product design lead to significant improvements.\n",
    "\n",
    "Risk Assessment: It helps in assessing risks associated with various actions or decisions, enabling individuals and organizations to make informed choices based on statistical evidence.\n",
    "\n",
    "Policy Making: Hypothesis testing plays a crucial role in policy making by providing empirical evidence to support or reject proposed policies and interventions.\n",
    "\n",
    "In summary, hypothesis testing is used to assess the validity of claims and make data-driven decisions, ensuring that conclusions drawn from sample data are reliable and can be generalized to the larger population."
   ]
  },
  {
   "cell_type": "markdown",
   "id": "c003659f-2d87-4514-a683-b08fc86dd263",
   "metadata": {},
   "source": [
    "Q4. Create a hypothesis that states whether the average weight of male college students is greater than\n",
    "the average weight of female college students."
   ]
  },
  {
   "cell_type": "markdown",
   "id": "89388444-0186-4283-94b6-7f2690584a3c",
   "metadata": {},
   "source": [
    "Null Hypothesis (H0): The average weight of male college students is  greater than the average weight of female college students.\n",
    "\n",
    "Alternative Hypothesis (H1): The average weight of male college students is not greater than the average weight of female college students."
   ]
  },
  {
   "cell_type": "markdown",
   "id": "cdb51a5f-18ca-4ad8-a353-974d2c992c44",
   "metadata": {},
   "source": [
    "Q5. Write a Python script to conduct a hypothesis test on the difference between two population means,\n",
    "given a sample from each population."
   ]
  },
  {
   "cell_type": "code",
   "execution_count": 5,
   "id": "bc654219-9fa0-406a-8a3f-31bcd1d94ce6",
   "metadata": {},
   "outputs": [
    {
     "name": "stdout",
     "output_type": "stream",
     "text": [
      "Fail to reject the null hypothesis. There is no significant difference between the means.\n"
     ]
    }
   ],
   "source": [
    "from scipy import stats\n",
    "sample1 = [20, 25, 30, 32, 28]\n",
    "sample2 = [18, 22, 27, 29, 26]\n",
    "t_stat, p_value = stats.ttest_ind(sample1, sample2)\n",
    "alpha = 0.05\n",
    "if p_value < alpha:\n",
    "    print(\"Reject the null hypothesis. There is a significant difference between the means.\")\n",
    "else:\n",
    "    print(\"Fail to reject the null hypothesis. There is no significant difference between the means.\")\n"
   ]
  },
  {
   "cell_type": "markdown",
   "id": "cc58c83c-53b7-4912-9239-b4748cdb31f2",
   "metadata": {},
   "source": [
    "Q6: What is a null and alternative hypothesis? Give some examples."
   ]
  },
  {
   "cell_type": "markdown",
   "id": "4d633641-755d-437d-9c80-5c5fc4b69202",
   "metadata": {},
   "source": [
    "**Null Hypothesis (H0):** \n",
    "- The null hypothesis is a statement that suggests there is no significant difference or relationship between the variables under investigation.\n",
    "- It is usually the default assumption in a hypothesis test.\n",
    "\n",
    "**Alternative Hypothesis (H1):** \n",
    "- The alternative hypothesis is the statement that contradicts the null hypothesis.\n",
    "- It suggests that there is a significant difference or relationship between the variables.\n",
    "\n",
    "**Examples:**\n",
    "1. **Example 1 (Numerical):**\n",
    "   - H0: The mean height of a population is 160 cm.\n",
    "   - H1: The mean height of a population is not 160 cm.\n",
    "\n",
    "2. **Example 2 (Categorical):**\n",
    "   - H0: The proportion of men in a town is 0.5.\n",
    "   - H1: The proportion of men in a town is not 0.5.\n",
    "\n",
    "3. **Example 3 (Relationship):**\n",
    "   - H0: There is no relationship between exercise and weight loss.\n",
    "   - H1: There is a relationship between exercise and weight loss.\n",
    "\n",
    "In each example, the null hypothesis assumes no difference, no effect, or no relationship, while the alternative hypothesis suggests the presence of a difference, effect, or relationship."
   ]
  },
  {
   "cell_type": "markdown",
   "id": "8ad4e199-886e-47ed-8c01-bab92404df30",
   "metadata": {},
   "source": [
    "Q7: Write down the steps involved in hypothesis testing."
   ]
  },
  {
   "cell_type": "markdown",
   "id": "a0eb52fb-fbbe-4841-8d6b-556a9d2fa56a",
   "metadata": {},
   "source": [
    "Hypothesis testing is a systematic procedure used to make statistical inferences about a population parameter based on sample data. The general steps involved in hypothesis testing are as follows:\n",
    "\n",
    "State the Hypotheses:Define the null hypothesis (H0) and the alternative hypothesis (H1) based on the research question and the specific claim being tested.\n",
    "Set the Significance Level (Alpha):Choose a significance level (often denoted as α) that determines the threshold for determining whether the null hypothesis should be rejected.\n",
    "Collect Data and Calculate Test Statistic:Gather sample data and calculate the appropriate test statistic based on the type of hypothesis test being conducted (e.g., t-test, z-test, chi-square test).\n",
    "Determine the Critical Region:Identify the critical region in the probability distribution that corresponds to the chosen significance level (α) and the degrees of freedom.\n",
    "Compute the P-value:Calculate the p-value, which represents the probability of obtaining results as extreme as or more extreme than those observed, assuming that the null hypothesis is true.\n",
    "Compare the P-value with Alpha:Compare the p-value with the significance level (α). If the p-value is less than α, reject the null hypothesis; otherwise, fail to reject the null hypothesis.\n",
    "Draw Conclusions:Interpret the results of the hypothesis test in the context of the problem and make appropriate conclusions about the population parameter based on the analysis.\n",
    "Consider Limitations and Further Analysis:Discuss any limitations of the study and consider the need for additional research or analysis to provide a comprehensive understanding of the underlying phenomenon."
   ]
  },
  {
   "cell_type": "markdown",
   "id": "d2d2988b-b72c-40c2-b15f-c714ea440aee",
   "metadata": {},
   "source": [
    "Q8. Define p-value and explain its significance in hypothesis testing."
   ]
  },
  {
   "cell_type": "markdown",
   "id": "2b38b5bc-d3f4-4718-8f76-86c9430a7a5b",
   "metadata": {},
   "source": [
    "The p-value, in the context of hypothesis testing, is a measure that helps determine the strength of the evidence against the null hypothesis. It is the probability of obtaining test results as extreme as, or more extreme than, the observed results, under the assumption that the null hypothesis is true.\n",
    "\n",
    "Significance of the p-value in Hypothesis Testing:\n",
    "\n",
    "Decision Making: The p-value helps in making informed decisions in hypothesis testing. If the p-value is less than the chosen significance level (alpha), it provides evidence to reject the null hypothesis.\n",
    "\n",
    "Strength of Evidence: A smaller p-value indicates stronger evidence against the null hypothesis. It suggests that the observed data is unlikely to occur if the null hypothesis were true.\n",
    "\n",
    "Statistical Significance: The p-value helps determine the statistical significance of the results. If the p-value is small, it implies that the results are statistically significant and not just due to random variation.\n",
    "\n",
    "Interpretation of Results: The p-value provides a quantitative measure that can be used to interpret the results of a hypothesis test, allowing researchers to draw meaningful conclusions about the population parameter.\n",
    "\n",
    "Comparative Analysis: Comparing the p-value with the pre-defined significance level (alpha) helps researchers decide whether to reject the null hypothesis and supports the choice between alternative hypotheses.m"
   ]
  },
  {
   "cell_type": "markdown",
   "id": "93f0eadc-7266-4398-9295-d050d0f07604",
   "metadata": {},
   "source": [
    "Q9. Generate a Student's t-distribution plot using Python's matplotlib library, with the degrees of freedom\n",
    "parameter set to 10."
   ]
  },
  {
   "cell_type": "code",
   "execution_count": 6,
   "id": "8d0ef76f-a397-45bd-a0bc-af3a75d52e65",
   "metadata": {},
   "outputs": [
    {
     "data": {
      "image/png": "[encoded data removed]",
      "text/plain": [
       "<Figure size 640x480 with 1 Axes>"
      ]
     },
     "metadata": {},
     "output_type": "display_data"
    }
   ],
   "source": [
    "import numpy as np\n",
    "import matplotlib.pyplot as plt\n",
    "from scipy.stats import t\n",
    "x = np.linspace(-4, 4, 1000)\n",
    "df = 10\n",
    "y = t.pdf(x, df)\n",
    "plt.plot(x, y, label=f\"Degrees of Freedom = {df}\")\n",
    "plt.title(\"Student's t-Distribution\")\n",
    "plt.xlabel(\"X\")\n",
    "plt.ylabel(\"Probability Density\")\n",
    "plt.legend()\n",
    "plt.show()\n"
   ]
  },
  {
   "cell_type": "markdown",
   "id": "0c03a81a-d263-4ff9-a91e-097879e57cf0",
   "metadata": {},
   "source": [
    "Q10. Write a Python program to calculate the two-sample t-test for independent samples, given two\n",
    "random samples of equal size and a null hypothesis that the population means are equal."
   ]
  },
  {
   "cell_type": "code",
   "execution_count": 7,
   "id": "7e4ff5ba-ddf8-4fbf-84f4-8531015925a7",
   "metadata": {},
   "outputs": [
    {
     "name": "stdout",
     "output_type": "stream",
     "text": [
      "Fail to reject the null hypothesis. There is no significant difference between the means.\n"
     ]
    }
   ],
   "source": [
    "import numpy as np\n",
    "from scipy import stats\n",
    "sample1 = np.array([23, 25, 18, 20, 22])\n",
    "sample2 = np.array([19, 21, 24, 20, 23])\n",
    "t_stat, p_value = stats.ttest_ind(sample1, sample2)\n",
    "alpha = 0.05\n",
    "if p_value < alpha:\n",
    "    print(\"Reject the null hypothesis. There is a significant difference between the means.\")\n",
    "else:\n",
    "    print(\"Fail to reject the null hypothesis. There is no significant difference between the means.\")\n"
   ]
  },
  {
   "cell_type": "markdown",
   "id": "5731779d-237f-4dc4-a3a6-e010982d60ad",
   "metadata": {},
   "source": [
    "Q11: What is Student’s t distribution? When to use the t-Distribution."
   ]
  },
  {
   "cell_type": "markdown",
   "id": "352590d7-b389-4a77-b291-34cce0fa20b0",
   "metadata": {},
   "source": [
    "Student’s t Distribution:\n",
    "\n",
    "The Student's t-distribution is a probability distribution that is used to estimate population parameters when the sample size is small or when the population variance is unknown.\n",
    "It is similar to the normal distribution but has heavier tails, making it more suitable for smaller sample sizes.\n",
    "When to Use the t-Distribution:\n",
    "\n",
    "The t-distribution is used when the sample size is small (typically less than 30) and the population standard deviation is unknown.\n",
    "It is often used in hypothesis testing and confidence interval estimation for small sample sizes, especially when the underlying population is assumed to be normally distributed.\n",
    "In summary, the t-distribution is used as an alternative to the normal distribution when dealing with small sample sizes or when the population standard deviation is unknown. It provides a more accurate estimation of the population parameters in these situations."
   ]
  },
  {
   "cell_type": "markdown",
   "id": "513960d3-6d2f-4586-ac83-9098d7e29909",
   "metadata": {},
   "source": [
    "Q12: What is t-statistic? State the formula for t-statistic."
   ]
  },
  {
   "cell_type": "markdown",
   "id": "3dbf8bd7-c760-438d-93bd-04ccf0933acb",
   "metadata": {},
   "source": [
    "A12.The t-statistic is a measure that quantifies the difference between the means of two groups, considering the variability within the groups. It is commonly used in hypothesis testing to determine whether there is a significant difference between the means of two samples."
   ]
  },
  {
   "cell_type": "markdown",
   "id": "e8db1fa8-99e9-4f29-95cd-999802396826",
   "metadata": {},
   "source": [
    "Formula :"
   ]
  },
  {
   "cell_type": "markdown",
   "id": "bb29c986-0000-40b4-bf5f-9df80fe4afdf",
   "metadata": {},
   "source": [
    "t = (mean1 - mean2) / √((variance1/n1) + (variance2/n2))\n",
    "\n",
    "where:\n",
    "\n",
    "mean1 and mean2 are the means of the two samples,\n",
    "variance1 and variance2 are the variances of the two samples,\n",
    "n1 and n2 are the sample sizes of the two samples."
   ]
  },
  {
   "cell_type": "markdown",
   "id": "7d563df2-379f-4f60-b157-5d4bb887722c",
   "metadata": {},
   "source": [
    "Q13. A coffee shop owner wants to estimate the average daily revenue for their shop. They take a random\n",
    "sample of 50 days and find the sample mean revenue to be $500 with a standard deviation of $50.\n",
    "Estimate the population mean revenue with a 95% confidence interval."
   ]
  },
  {
   "cell_type": "markdown",
   "id": "f758ca99-4608-4e45-80a2-009213a9f5f3",
   "metadata": {},
   "source": [
    "CI=95%=0.95                                                                                                                                           \n",
    "sig_val=0.05                                                                                                                                           \n",
    "n=50                                                                                                                                                   \n",
    "dof=50-1=49                                                                                                                                           \n",
    "x_bar=500                                                                                                                                             \n",
    "s=50                                                                                                                                                   \n",
    "the t-value for 49 degrees of freedom at a 0.05 significance level is approximately 2.0096.                                                           \n",
    "moe=(2.0096*50)/√50=2.8382\n",
    "CI=(x_bar − moe, x_bar + moe)                                                                                                                         \n",
    "Plugging in the values, we have:\n",
    "\n",
    "CI=(500−2.8382,500+2.8382)=(497.1618,502.8382)\n",
    "\n",
    "So, the 95% confidence interval for the population mean revenue is approximately 497.16 to 502.84. "
   ]
  },
  {
   "cell_type": "markdown",
   "id": "4a94493e-d923-4063-9804-8fae04fd4eb7",
   "metadata": {},
   "source": [
    "Q14. A researcher hypothesizes that a new drug will decrease blood pressure by 10 mmHg. They conduct a\n",
    "clinical trial with 100 patients and find that the sample mean decrease in blood pressure is 8 mmHg with a\n",
    "standard deviation of 3 mmHg. Test the hypothesis with a significance level of 0.05."
   ]
  },
  {
   "cell_type": "markdown",
   "id": "45eaafef-8cda-4616-87f3-bd2d3d69637c",
   "metadata": {},
   "source": [
    "\n",
    "To test the hypothesis, we can use a one-sample t-test.\n",
    "\n",
    "Given data:\n",
    "\n",
    "n = 100                                                                                                                                                \n",
    "x_bar= 8 mmHg                                                                                                                                          \n",
    "μ = 10 mmHg                                                                                                                                            \n",
    "s = 3 mmHg                                                                                                                                             \n",
    "α = 0.05                                                                                                                                               \n",
    "CI = 1-0.05 = 0.95                                                                                                                                          \n",
    "dof=n-1=100-1=99                                                                                                                                          \n",
    "t=(x_bar-μ)/(s/√n)                                                                                                                                      \n",
    "t=(8-10)/(3/10)= -6.67                                                                                                                                      \n",
    "Next, we find the critical t-value from the t-distribution table for a significance level of 0.05 with 99 degrees of freedomand it's value is  ±1.984 \n",
    "Since the calculated t-value (-6.67) is greater than the critical t-value (-1.984), we reject the null hypothesis. This suggests that there is sufficient evidence to conclude that the new drug decreases blood pressure significantly by 10 mmHg."
   ]
  },
  {
   "cell_type": "markdown",
   "id": "5917be56-51ce-4b42-9efd-968a92a42745",
   "metadata": {},
   "source": [
    "Q15. An electronics company produces a certain type of product with a mean weight of 5 pounds and a\n",
    "standard deviation of 0.5 pounds. A random sample of 25 products is taken, and the sample mean weight\n",
    "is found to be 4.8 pounds. Test the hypothesis that the true mean weight of the products is less than 5\n",
    "pounds with a significance level of 0.01."
   ]
  },
  {
   "cell_type": "markdown",
   "id": "ab3ffffa-deb5-4169-937d-e59a4fcda5bc",
   "metadata": {},
   "source": [
    "State the null and alternative hypotheses:\n",
    "\n",
    "Null Hypothesis (H0): The true mean weight of the products is 5 pounds.\n",
    "Alternative Hypothesis (Ha): The true mean weight of the products is less than 5 pounds.\n",
    "Set the significance level (α) to 0.01.\n",
    "\n",
    "Calculate the z-score using the formula :                                                                                                             \n",
    "z = (x_bar - μ)/(σ/√n)                                                                                                                               \n",
    "x_bar is the sample mean (4.8 pounds),\n",
    "μ is the population mean (5 pounds),\n",
    "σ is the population standard deviation (0.5 pounds), and\n",
    "n is the sample size (25 products).                                                                                                                   \n",
    "z=(5-4.8)/(0.5/5)= -2 \n",
    "CI=1-0.01=0.99                                                                                                                                         \n",
    "The critical z-value for a one-tailed test at a 0.01 significance level is approximately -2.33.                                                       \n",
    "In this case, since the calculated z-value is -2, it falls in the rejection region, and the p-value would be less than 0.01, leading to the rejection of the null hypothesis. This suggests that there is enough evidence to conclude that the true mean weight of the products is less than 5 pounds."
   ]
  },
  {
   "cell_type": "markdown",
   "id": "a604be65-afd6-41bd-b08f-91032c60bc4e",
   "metadata": {},
   "source": [
    "Q16. Two groups of students are given different study materials to prepare for a test. The first group (n1 =\n",
    "30) has a mean score of 80 with a standard deviation of 10, and the second group (n2 = 40) has a mean\n",
    "score of 75 with a standard deviation of 8. Test the hypothesis that the population means for the two\n",
    "groups are equal with a significance level of 0.01."
   ]
  },
  {
   "cell_type": "markdown",
   "id": "87e18794-47c5-4e56-8e67-d268e15889f7",
   "metadata": {},
   "source": [
    "A16. Certainly. We have two groups of students, with the first group having 30 students and the second group having 40 students. The first group has a mean score of 80 with a standard deviation of 10, and the second group has a mean score of 75 with a standard deviation of 8. We want to test whether the population means for the two groups are equal or not.\n",
    "\n",
    "To do this, we use a two-sample t-test. This involves calculating a test statistic (t) using the given formula, taking into account the means, standard deviations, and sample sizes of both groups. We then compare the calculated t-value with the critical value from the t-distribution table at a significance level of 0.01 (since this is a two-tailed test).\n",
    "\n",
    "After performing the necessary calculations, we find that the calculated t-value is approximately 3.075, and the critical value at a significance level of 0.01 is approximately 2.66.\n",
    "\n",
    "Since the absolute value of the calculated t-value (3.075) is greater than the critical value (2.66), we reject the null hypothesis. Therefore, we can conclude that the population means for the two groups are not equal."
   ]
  },
  {
   "cell_type": "markdown",
   "id": "65be2ff3-d16f-4450-baf4-2d9744b7f0ae",
   "metadata": {},
   "source": [
    "Q17. A marketing company wants to estimate the average number of ads watched by viewers during a TV\n",
    "program. They take a random sample of 50 viewers and find that the sample mean is 4 with a standard\n",
    "deviation of 1.5. Estimate the population mean with a 99% confidence interval."
   ]
  },
  {
   "cell_type": "markdown",
   "id": "45034361-2fe6-4f02-8cc5-99706bc05e0a",
   "metadata": {},
   "source": [
    "A17. Certainly. The marketing company took a random sample of 50 viewers and found that the average number of ads watched during a TV program was 4, with a standard deviation of 1.5. They want to estimate the average number of ads watched by all viewers with 99% confidence.\n",
    "\n",
    "Using the formula for a confidence interval, and knowing that the critical value for a 99% confidence interval is 2.576 (from the standard normal distribution table), we calculate the margin of error by multiplying the critical value by the standard error of the mean, which is the standard deviation divided by the square root of the sample size.\n",
    "\n",
    "After plugging in the values and performing the necessary calculations, we find that the margin of error is approximately 0.546. Thus, the 99% confidence interval for the population mean of the number of ads watched by viewers during a TV program is estimated to be between 3.454 and 4.546. This means that we are 99% confident that the true population mean lies within this interval."
   ]
  },
  {
   "cell_type": "code",
   "execution_count": null,
   "id": "3f5d087e-6d09-456a-9406-b36c3e72de71",
   "metadata": {},
   "outputs": [],
   "source": []
  }
 ],
 "metadata": {
  "kernelspec": {
   "display_name": "Python 3 (ipykernel)",
   "language": "python",
   "name": "python3"
  },
  "language_info": {
   "codemirror_mode": {
    "name": "ipython",
    "version": 3
   },
   "file_extension": ".py",
   "mimetype": "text/x-python",
   "name": "python",
   "nbconvert_exporter": "python",
   "pygments_lexer": "ipython3",
   "version": "3.10.8"
  }
 },
 "nbformat": 4,
 "nbformat_minor": 5
}
