{
 "cells": [
  {
   "cell_type": "markdown",
   "id": "5a798c93-56cf-4495-9d4b-3596de399ab7",
   "metadata": {},
   "source": [
    "Q1. What are the three measures of central tendency?"
   ]
  },
  {
   "cell_type": "markdown",
   "id": "48369540-6483-471f-85c1-a2bb58449808",
   "metadata": {},
   "source": [
    "A1. the three main s=central of tendency are : "
   ]
  },
  {
   "cell_type": "markdown",
   "id": "8e631214-a41d-477a-bed7-00826a3e35c9",
   "metadata": {},
   "source": [
    "->mean"
   ]
  },
  {
   "cell_type": "markdown",
   "id": "91bbac83-b3c5-4aac-8eef-c26b0677c36e",
   "metadata": {},
   "source": [
    "->median"
   ]
  },
  {
   "cell_type": "markdown",
   "id": "508932f2-62eb-43bf-b255-1135efea2699",
   "metadata": {},
   "source": [
    "->mode"
   ]
  },
  {
   "cell_type": "markdown",
   "id": "3197acf4-1706-40a5-b93a-82e2d3c02319",
   "metadata": {},
   "source": [
    "Q2. What is the difference between the mean, median, and mode? How are they used to measure the\n",
    "central tendency of a dataset?"
   ]
  },
  {
   "cell_type": "markdown",
   "id": "45f22d61-9ca8-423a-8b14-6fdf6b6e6aff",
   "metadata": {},
   "source": [
    "A2.The mean is the average of a dataset, found by adding all the values and then dividing by the total number of values. The median is the middle value of a dataset when the values are arranged in ascending or descending order. The mode is the most frequent value in the dataset.\n",
    "\n",
    "These measures of central tendency help to understand the typical value or central position within a dataset. The mean is sensitive to extreme values and is commonly used when data follows a normal distribution. The median is useful when there are outliers or when the data is not symmetrical. The mode is valuable for understanding the most frequently occurring value in a dataset. Using these measures together provides a comprehensive understanding of the data's central tendencies and distribution."
   ]
  },
  {
   "cell_type": "markdown",
   "id": "a9b4ad60-2ef9-48e2-95ac-ed528d687cea",
   "metadata": {},
   "source": [
    "Q3. Measure the three measures of central tendency for the given height data:\n",
    "[178,177,176,177,178.2,178,175,179,180,175,178.9,176.2,177,172.5,178,176.5]"
   ]
  },
  {
   "cell_type": "code",
   "execution_count": 10,
   "id": "b87a57d7-e9e8-4a3c-ab11-05287793e797",
   "metadata": {},
   "outputs": [],
   "source": [
    "import numpy as np\n",
    "from statistics import mode"
   ]
  },
  {
   "cell_type": "code",
   "execution_count": 12,
   "id": "08255beb-b5d5-4341-9149-69bc93cd7b4a",
   "metadata": {},
   "outputs": [
    {
     "name": "stdout",
     "output_type": "stream",
     "text": [
      "mean : 177.01875\n",
      "median : 177.0\n",
      "mode : 178\n"
     ]
    }
   ],
   "source": [
    "height=[178,177,176,177,178.2,178,175,179,180,175,178.9,176.2,177,172.5,178,176.5]\n",
    "print(f\"mean : {np.mean(height)}\")\n",
    "print(f\"median : {np.median(height)}\")\n",
    "print(f\"mode : {mode(height)}\")"
   ]
  },
  {
   "cell_type": "markdown",
   "id": "c1f34b29-08d0-4071-9574-0c9abb04ab33",
   "metadata": {},
   "source": [
    "Q4. Find the standard deviation for the given data:\n",
    "[178,177,176,177,178.2,178,175,179,180,175,178.9,176.2,177,172.5,178,176.5]"
   ]
  },
  {
   "cell_type": "code",
   "execution_count": 13,
   "id": "19cb813f-869e-43f5-b5c8-a05aedaa3875",
   "metadata": {},
   "outputs": [
    {
     "data": {
      "text/plain": [
       "1.7885814036548633"
      ]
     },
     "execution_count": 13,
     "metadata": {},
     "output_type": "execute_result"
    }
   ],
   "source": [
    "height=[178,177,176,177,178.2,178,175,179,180,175,178.9,176.2,177,172.5,178,176.5]\n",
    "np.std(height)"
   ]
  },
  {
   "cell_type": "markdown",
   "id": "59a7b0d5-c8bf-4b34-a00b-1757eab06291",
   "metadata": {},
   "source": [
    "Q5. How are measures of dispersion such as range, variance, and standard deviation used to describe\n",
    "the spread of a dataset? Provide an example."
   ]
  },
  {
   "cell_type": "markdown",
   "id": "ab9e91b2-d3c2-4262-8560-c432c2beee5c",
   "metadata": {},
   "source": [
    "Measures of dispersion, including range, variance, and standard deviation, help to quantify the extent of variability or spread within a dataset. They provide insights into how closely or widely the data points are distributed around the central tendency.\n",
    "\n",
    "- Range: Provides a simple understanding of the data's spread by measuring the difference between the largest and smallest values.\n",
    "\n",
    "- Variance: Offers the average of the squared differences from the mean, indicating the degree of spread within the dataset. Higher variance implies greater data spread.\n",
    "\n",
    "- Standard Deviation: Represents the square root of the variance and gives a more interpretable value for data dispersion. A larger standard deviation suggests greater data variability.\n",
    "\n",
    "Example: \n",
    "Consider a dataset of exam scores: [78, 85, 90, 92, 95]. \n",
    "- Range: 95 - 78 = 17\n",
    "- Variance: 44.5\n",
    "- Standard Deviation: Approximately 6.67\n",
    "\n",
    "These measures would indicate the range of scores and the extent to which they deviate from the mean."
   ]
  },
  {
   "cell_type": "markdown",
   "id": "948cfe0f-7873-42e7-b730-5a8797d2ba2f",
   "metadata": {},
   "source": [
    "Q6. What is a Venn diagram?"
   ]
  },
  {
   "cell_type": "markdown",
   "id": "c8641321-b2a6-4c30-8dcc-9602e4a80077",
   "metadata": {},
   "source": [
    "A6.A Venn diagram is a visual representation of the relationships between different sets of data. It uses overlapping circles or shapes to show commonalities and differences between the sets, aiding in the visualization of set theory concepts and logical relationships."
   ]
  },
  {
   "cell_type": "markdown",
   "id": "050f89cd-826b-433e-a614-02a04c16f257",
   "metadata": {},
   "source": [
    "Q7. For the two given sets A = (2,3,4,5,6,7) & B = (0,2,6,8,10). Find:\n",
    "(i) A B\n",
    "(ii) A ⋃ B"
   ]
  },
  {
   "cell_type": "markdown",
   "id": "0feef4e7-8869-493f-a1c6-a377728e8a17",
   "metadata": {},
   "source": [
    "(i) A&B=(2,6)"
   ]
  },
  {
   "cell_type": "markdown",
   "id": "99db6442-e77d-4191-bc84-25caf1974d6c",
   "metadata": {},
   "source": [
    "(ii) A U B =(0,2,3,4,5,6,7,8,10)"
   ]
  },
  {
   "cell_type": "markdown",
   "id": "abc61668-8e15-4169-9abe-d8eedcdeb99d",
   "metadata": {},
   "source": [
    "Q8. What do you understand about skewness in data?"
   ]
  },
  {
   "cell_type": "markdown",
   "id": "da19b293-3ae6-4039-9dac-d2d61ecd53bc",
   "metadata": {},
   "source": [
    "A8. Skewness in data refers to the asymmetry in the distribution of values. It indicates whether the data points are concentrated more on one side of the mean compared to the other. Positive skewness implies that the data is skewed to the right, with a tail on the right side of the distribution. Negative skewness suggests that the data is skewed to the left, with a tail on the left side of the distribution. Skewness is a crucial measure for understanding the shape and characteristics of a dataset's distribution."
   ]
  },
  {
   "cell_type": "markdown",
   "id": "7d4ae84e-d527-4303-8576-b9566234b333",
   "metadata": {},
   "source": [
    "Q9. If a data is right skewed then what will be the position of median with respect to mean?"
   ]
  },
  {
   "cell_type": "markdown",
   "id": "3c45b549-e04f-4bbc-8538-b5ac8285b20e",
   "metadata": {},
   "source": [
    "A9. In a right-skewed distribution, the mean is typically greater than the median. The skewness to the right indicates that the tail of the distribution is stretched out to the right, which results in the mean being pulled in that direction. As a consequence, the mean is pushed away from the center by the skewed data points, causing it to be greater than the median."
   ]
  },
  {
   "cell_type": "markdown",
   "id": "3171997d-e4eb-4fe7-bbeb-34745c614c7a",
   "metadata": {},
   "source": [
    "Q10. Explain the difference between covariance and correlation. How are these measures used in\n",
    "statistical analysis?"
   ]
  },
  {
   "cell_type": "markdown",
   "id": "ff17b66c-7c7a-48ff-987a-0545a2255766",
   "metadata": {},
   "source": [
    "A10.Covariance and correlation are both measures of the relationship and association between two variables, but they have distinct characteristics:\n",
    "\n",
    "1. Covariance: Covariance is a measure of how much two random variables vary together. It indicates the direction of the linear relationship between two variables. A positive covariance suggests that the variables move in the same direction, while a negative covariance indicates that they move in opposite directions. However, it doesn't provide a standardized measure, making it difficult to compare relationships between different pairs of variables.\n",
    "\n",
    "2. Correlation: Correlation is a standardized measure that provides the strength and direction of the linear relationship between two variables. It ranges from -1 to 1, where 1 indicates a perfect positive relationship, -1 indicates a perfect negative relationship, and 0 indicates no linear relationship. Correlation is more useful than covariance as it allows for comparisons between different pairs of variables, regardless of the units of measurement.\n",
    "\n",
    "In statistical analysis, both covariance and correlation are used to understand the relationship between variables. They help in determining the degree and direction of the linear association, identifying patterns, and predicting the behavior of one variable based on the other. They are fundamental in fields such as economics, finance, social sciences, and scientific research for analyzing the dependence between different variables and making informed decisions based on the observed relationships."
   ]
  },
  {
   "cell_type": "markdown",
   "id": "2772e921-ee97-4a7d-97c4-b7678c9ad57b",
   "metadata": {},
   "source": [
    "Q11. What is the formula for calculating the sample mean? Provide an example calculation for a\n",
    "dataset."
   ]
  },
  {
   "cell_type": "markdown",
   "id": "16850c6c-968b-46f8-9ae7-2b6ad1b478ce",
   "metadata": {},
   "source": [
    "A11. The formula for calculating the sample mean (\\( \\bar{x} \\)) is:\n",
    "\n",
    "bar{x} = ({1}\\{n})*sum(Xi)\n",
    "\n",
    "Here's an example calculation for a dataset:\n",
    "\n",
    "Consider the following dataset representing the weights of five apples:  [ 120, 115, 130, 125, 135 ]\n",
    "\n",
    "Using the formula:"
   ]
  },
  {
   "cell_type": "code",
   "execution_count": 14,
   "id": "1b215112-1278-4d57-ac4e-7055f0d75b6d",
   "metadata": {},
   "outputs": [
    {
     "data": {
      "text/plain": [
       "125.0"
      ]
     },
     "execution_count": 14,
     "metadata": {},
     "output_type": "execute_result"
    }
   ],
   "source": [
    "n=5\n",
    "EXi=120+115+130+125+135\n",
    "x_bar=EXi/5\n",
    "x_bar"
   ]
  },
  {
   "cell_type": "markdown",
   "id": "9f4d3492-2bb8-4787-9ed1-050de37813a0",
   "metadata": {},
   "source": [
    "So, the sample mean weight of the five apples is 125 grams."
   ]
  },
  {
   "cell_type": "markdown",
   "id": "268727a2-3956-456c-8269-63378020ee61",
   "metadata": {},
   "source": [
    "Q12. For a normal distribution data what is the relationship between its measure of central tendency?"
   ]
  },
  {
   "cell_type": "markdown",
   "id": "e57fe09f-736b-4e4d-a781-67e0eddbefff",
   "metadata": {},
   "source": [
    "A12. For a normal distribution data all the three measure of central tendency i.e.. mean , median and mode are nearly equal to each other."
   ]
  },
  {
   "cell_type": "markdown",
   "id": "9cd668ba-3258-4f99-bbcb-521c3222b284",
   "metadata": {},
   "source": [
    "Q13. How is covariance different from correlation?"
   ]
  },
  {
   "cell_type": "markdown",
   "id": "4c9cffb8-ad0b-4719-9808-b770c39aff0b",
   "metadata": {},
   "source": [
    "A13. Covariance measures the direction and extent of the linear relationship between two variables, while correlation additionally standardizes this measure to provide an easily interpretable value that can be compared across different datasets."
   ]
  },
  {
   "cell_type": "markdown",
   "id": "cfe87861-5f18-4687-99f2-6482e457e368",
   "metadata": {},
   "source": [
    "Q14. How do outliers affect measures of central tendency and dispersion? Provide an example."
   ]
  },
  {
   "cell_type": "markdown",
   "id": "a1e31a69-3910-45fd-b2e9-96f1bc9ec87f",
   "metadata": {},
   "source": [
    "A14. Outliers can significantly impact measures of central tendency and dispersion:\n",
    "\n",
    "1. Measures of Central Tendency: Outliers can heavily skew the mean while having minimal effect on the median and mode. As the mean is sensitive to extreme values, its value can be disproportionately influenced by outliers.\n",
    "\n",
    "2. Measures of Dispersion: Outliers can increase the variability, range, and standard deviation of the data, making it appear more spread out than it actually is. However, their impact on variance depends on the distance of the outlier from the rest of the data.\n",
    "\n",
    "Example:\n",
    "\n",
    "Consider the dataset: \\[4, 6, 7, 8, 9, 10, 12, 15, 20, 150\\]\n",
    "\n",
    "Outlier: 150\n",
    "\n",
    "Without the outlier:\n",
    "- Mean: 9.1\n",
    "- Median: 8.5\n",
    "- Range: 16\n",
    "- Standard Deviation: 4.6\n",
    "\n",
    "With the outlier:\n",
    "- Mean: 26.1\n",
    "- Median: 8.5\n",
    "- Range: 146\n",
    "- Standard Deviation: 49.4\n",
    "\n",
    "The outlier drastically affects the mean and standard deviation, demonstrating how outliers can distort the interpretation of central tendency and dispersion measures."
   ]
  },
  {
   "cell_type": "code",
   "execution_count": null,
   "id": "a59306d9-bfbd-42d7-bb83-f580c519c65d",
   "metadata": {},
   "outputs": [],
   "source": []
  }
 ],
 "metadata": {
  "kernelspec": {
   "display_name": "Python 3 (ipykernel)",
   "language": "python",
   "name": "python3"
  },
  "language_info": {
   "codemirror_mode": {
    "name": "ipython",
    "version": 3
   },
   "file_extension": ".py",
   "mimetype": "text/x-python",
   "name": "python",
   "nbconvert_exporter": "python",
   "pygments_lexer": "ipython3",
   "version": "3.10.8"
  }
 },
 "nbformat": 4,
 "nbformat_minor": 5
}
