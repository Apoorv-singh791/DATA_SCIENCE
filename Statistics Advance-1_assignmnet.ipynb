{
 "cells": [
  {
   "cell_type": "markdown",
   "id": "a498a19e-714f-4c08-b7f3-c18386faa505",
   "metadata": {},
   "source": [
    "Q1. What is the Probability density function?"
   ]
  },
  {
   "cell_type": "markdown",
   "id": "3d298108-5c2b-4ec3-91c0-e7060ffef405",
   "metadata": {},
   "source": [
    "A1. The Probability Density Function (PDF) is a function that describes the likelihood of a continuous random variable taking on a particular value. It is used to specify the probability of the random variable falling within a particular range of values, as opposed to taking on any one value. In essence, the PDF helps to determine the relative likelihood of different outcomes in a continuous probability distribution."
   ]
  },
  {
   "cell_type": "markdown",
   "id": "4e3596f5-3a1a-4126-b9cf-ec7cc800353e",
   "metadata": {},
   "source": [
    "Q2. What are the types of Probability distribution?"
   ]
  },
  {
   "cell_type": "markdown",
   "id": "7d171c40-f457-4061-b5b2-2b5e68703214",
   "metadata": {},
   "source": [
    "A2. following are the types of probability distribution :-"
   ]
  },
  {
   "cell_type": "markdown",
   "id": "d3f4e5d6-33bd-4cd6-adb5-31ce94a3a232",
   "metadata": {},
   "source": [
    "->normal/gaussian distribution "
   ]
  },
  {
   "cell_type": "markdown",
   "id": "c240e2c7-f729-4523-8dfc-a083b0e4c02f",
   "metadata": {},
   "source": [
    "->bernauli's distribution "
   ]
  },
  {
   "cell_type": "markdown",
   "id": "9044a62d-4344-46ce-8a03-a77021a60a91",
   "metadata": {},
   "source": [
    "->binomial distribution "
   ]
  },
  {
   "cell_type": "markdown",
   "id": "4733a6dd-57a5-4dad-b2b6-699a1348ff2c",
   "metadata": {},
   "source": [
    "->poission's distribution "
   ]
  },
  {
   "cell_type": "markdown",
   "id": "72b0a5f5-6261-43c2-b729-3f6dd8b402e6",
   "metadata": {},
   "source": [
    "->uniform distribution"
   ]
  },
  {
   "cell_type": "markdown",
   "id": "ab66a1e1-8a2f-4449-9c96-bb276c749768",
   "metadata": {},
   "source": [
    "->log-normal distribution "
   ]
  },
  {
   "cell_type": "markdown",
   "id": "3801ca7d-9a13-4a12-ada3-ea7642f7fae5",
   "metadata": {},
   "source": [
    "Q3. Write a Python function to calculate the probability density function of a normal distribution with\n",
    "given mean and standard deviation at a given point."
   ]
  },
  {
   "cell_type": "code",
   "execution_count": 10,
   "id": "6a5666bd-0277-4775-abf1-a04d6f83e16f",
   "metadata": {},
   "outputs": [],
   "source": [
    "def normal_pdf(mean,std,point):\n",
    "    a=(2*3.14)**0.5\n",
    "    b=std*a\n",
    "    c=1/b\n",
    "    d=(point-mean)\n",
    "    f=(d/std)**2\n",
    "    g=f/-2\n",
    "    exp=2.718\n",
    "    h=exp**g\n",
    "    pdf=c*h\n",
    "    return(pdf)"
   ]
  },
  {
   "cell_type": "markdown",
   "id": "4505e266-cc0a-46b1-8e34-37c700087839",
   "metadata": {},
   "source": [
    "ANOTHER WAY "
   ]
  },
  {
   "cell_type": "code",
   "execution_count": 13,
   "id": "a884b78a-433f-432d-ba81-3c25712e03c4",
   "metadata": {},
   "outputs": [
    {
     "name": "stdout",
     "output_type": "stream",
     "text": [
      "Requirement already satisfied: scipy in /opt/conda/lib/python3.10/site-packages (1.9.3)\n",
      "Requirement already satisfied: numpy<1.26.0,>=1.18.5 in /opt/conda/lib/python3.10/site-packages (from scipy) (1.23.5)\n",
      "Note: you may need to restart the kernel to use updated packages.\n"
     ]
    }
   ],
   "source": [
    "pip install scipy"
   ]
  },
  {
   "cell_type": "code",
   "execution_count": 16,
   "id": "6de02606-bb44-4ef9-87f2-8902117fd3f2",
   "metadata": {},
   "outputs": [],
   "source": [
    "from scipy.stats import norm \n",
    "def normal_pdf(point,mean,std):\n",
    "    pdf=norm.pdf(point,loc=mean,scale=std)\n",
    "    return(pdf)"
   ]
  },
  {
   "cell_type": "markdown",
   "id": "a241db5c-2447-40b2-8603-d9ba6e40a773",
   "metadata": {},
   "source": [
    "Q4. What are the properties of Binomial distribution? Give two examples of events where binomial\n",
    "distribution can be applied."
   ]
  },
  {
   "cell_type": "markdown",
   "id": "9f2170eb-48ee-428b-b11c-df9047e6a34c",
   "metadata": {},
   "source": [
    "A4. The properties of the Binomial distribution include:\n",
    "\n",
    "1. Fixed number of trials: The distribution represents the number of successes in a fixed number of independent Bernoulli trials.\n",
    "2. Two possible outcomes: Each trial results in one of two outcomes: success or failure.\n",
    "3. Independent trials: The outcome of one trial does not affect the outcome of another trial.\n",
    "4. Constant probability: The probability of success remains the same for each trial.\n",
    "\n",
    "Two examples where the Binomial distribution can be applied are:\n",
    "\n",
    "1. Coin Flips: When flipping a fair coin multiple times, the number of heads (successes) out of a fixed number of trials follows a Binomial distribution.\n",
    "2. Manufacturing Defects: In quality control, when examining a batch of items for defective products, the number of defective items out of a fixed number of randomly sampled items follows a Binomial distribution."
   ]
  },
  {
   "cell_type": "markdown",
   "id": "4cc70d69-6f19-403c-a0fa-5602428d1a5f",
   "metadata": {},
   "source": [
    "Q5. Generate a random sample of size 1000 from a binomial distribution with probability of success 0.4\n",
    "and plot a histogram of the results using matplotlib."
   ]
  },
  {
   "cell_type": "code",
   "execution_count": 3,
   "id": "a3fb13d4-788f-4560-bd08-8c6a56f8fd51",
   "metadata": {},
   "outputs": [
    {
     "data": {
      "image/png": "[encoded data removed]",
      "text/plain": [
       "<Figure size 640x480 with 1 Axes>"
      ]
     },
     "metadata": {},
     "output_type": "display_data"
    }
   ],
   "source": [
    "import numpy as np\n",
    "import matplotlib.pyplot as mp\n",
    "size=1000\n",
    "suc=0.4\n",
    "sample=np.random.binomial(1,suc,size)\n",
    "mp.hist(sample)\n",
    "mp.title('Histogram of Binomial Distribution')\n",
    "mp.xlabel('Value')\n",
    "mp.ylabel('Frequency')\n",
    "mp.show()"
   ]
  },
  {
   "cell_type": "markdown",
   "id": "593f3506-7e52-4c96-b4a0-2b5217565017",
   "metadata": {},
   "source": [
    "Q6. Write a Python function to calculate the cumulative distribution function of a Poisson distribution\n",
    "with given mean at a given point."
   ]
  },
  {
   "cell_type": "code",
   "execution_count": 4,
   "id": "2ec11be3-44a8-48d5-b866-301d90eab871",
   "metadata": {},
   "outputs": [],
   "source": [
    "from scipy.stats import poisson\n",
    "def poisson_cdf(mean,point):\n",
    "    mean=int(input(\"enetr mean : \"))\n",
    "    point=int(input(\"enter pooint : \"))\n",
    "    a=poisson.cdf(point,mean)\n",
    "    return a"
   ]
  },
  {
   "cell_type": "markdown",
   "id": "90bfd0b0-e048-447f-b6f3-0507c16e9d03",
   "metadata": {},
   "source": [
    "Q7. How Binomial distribution different from Poisson distribution?"
   ]
  },
  {
   "cell_type": "markdown",
   "id": "fbf25a9a-0944-48b4-be4e-2e7314308c13",
   "metadata": {},
   "source": [
    "The binomial distribution and the Poisson distribution are both discrete probability distributions, but they are used in different contexts and have different characteristics.\n",
    "\n",
    "1. **Binomial Distribution**:\n",
    "   - The binomial distribution describes the number of successes in a fixed number of independent Bernoulli trials (experiments with two possible outcomes: success and failure), each with the same probability of success.\n",
    "   - It is characterized by two parameters: the number of trials (n) and the probability of success (p) for each trial.\n",
    "   - The random variable in a binomial distribution represents the number of successes, which must be a whole number.\n",
    "   - It has a fixed upper limit, as it deals with a fixed number of trials.\n",
    "   - Examples of scenarios that can be modeled by the binomial distribution include coin tosses, where you are interested in the number of heads obtained in a fixed number of tosses.\n",
    "\n",
    "2. **Poisson Distribution**:\n",
    "   - The Poisson distribution models the number of events that occur in a fixed interval of time or space, given a known average rate of occurrence, and where events occur independently of the time since the last event.\n",
    "   - It is characterized by a single parameter, lambda (λ), which represents the average rate of occurrence of the event.\n",
    "   - The random variable in a Poisson distribution represents the number of events occurring in a fixed interval.\n",
    "   - It has an infinite upper limit, as it models events occurring in a continuum.\n",
    "   - Examples of scenarios that can be modeled by the Poisson distribution include the number of phone calls received by a call center in a given hour or the number of accidents occurring at a specific intersection in a day.\n",
    "\n",
    "In summary, the key difference between the two distributions lies in the nature of the events they model. The binomial distribution deals with a fixed number of trials with two possible outcomes, while the Poisson distribution deals with events occurring in a fixed interval, with the emphasis on the rate of occurrence."
   ]
  },
  {
   "cell_type": "markdown",
   "id": "0d0b8da2-7a9c-4a44-88a0-9879e86cbffe",
   "metadata": {},
   "source": [
    "Q8. Generate a random sample of size 1000 from a Poisson distribution with mean 5 and calculate the\n",
    "sample mean and variance."
   ]
  },
  {
   "cell_type": "code",
   "execution_count": 7,
   "id": "3f3cbe8a-085f-44df-bbce-8cc31e90d68b",
   "metadata": {},
   "outputs": [
    {
     "name": "stdout",
     "output_type": "stream",
     "text": [
      "5.033\n",
      "5.0359110000000005\n"
     ]
    }
   ],
   "source": [
    "import numpy as np \n",
    "size=1000\n",
    "mean=5\n",
    "a=np.random.poisson(mean,size)\n",
    "sample_mean=np.mean(a)\n",
    "sample_var=np.var(a)\n",
    "print(sample_mean)\n",
    "print(sample_var)"
   ]
  },
  {
   "cell_type": "markdown",
   "id": "d64e8acd-4e6e-48ee-b228-d6b38cf6095b",
   "metadata": {},
   "source": [
    "Q9. How mean and variance are related in Binomial distribution and Poisson distribution?"
   ]
  },
  {
   "cell_type": "markdown",
   "id": "2ad91abe-db90-456a-b0e6-7823b7324020",
   "metadata": {},
   "source": [
    "A9. Binomial Distribution:\n",
    "\n",
    "In the case of a binomial distribution, the mean (μ) is equal to the product of the number of trials (n) and the probability of success in each trial and variance is the prodict of the number of trials (n) and the probability of success in each trial (p) and probabelity of faliure in each trial (npq)"
   ]
  },
  {
   "cell_type": "markdown",
   "id": "88ce78ff-9836-4535-bebc-e90a027046a5",
   "metadata": {},
   "source": [
    "poisson distribution :"
   ]
  },
  {
   "cell_type": "markdown",
   "id": "5dc5b67e-cb83-471c-a1f5-0e399b024386",
   "metadata": {},
   "source": [
    "For a Poisson distribution, the mean is equal to both the variance and the standard deviation. It represents the average rate of occurrence of the events.\n",
    "Therefore, in a Poisson distribution, the mean is also equal to the variance."
   ]
  },
  {
   "cell_type": "markdown",
   "id": "4b776f01-635a-4219-8fb0-929a1323ffa4",
   "metadata": {},
   "source": [
    "Q10. In normal distribution with respect to mean position, where does the least frequent data appear?"
   ]
  },
  {
   "cell_type": "markdown",
   "id": "e9ea0701-7fb8-4c6f-8d75-e11d4b097961",
   "metadata": {},
   "source": [
    "A10. In a normal distribution, the least frequent data points occur in the tails of the distribution, which are the regions farther away from the mean. The normal distribution is a symmetric, bell-shaped distribution that is characterized by its mean  and standard deviation . The mean represents the central point of the distribution, and the data points become less frequent as they move away from the mean towards the tails.\n",
    "\n",
    "The normal distribution follows the 68-95-99.7 rule, also known as the empirical rule or the three-sigma rule. According to this rule:\n",
    "\n",
    "1. Approximately 68% of the data falls within one standard deviation  of the mean .\n",
    "2. Approximately 95% of the data falls within two standard deviations of the mean \n",
    "3. Approximately 99.7% of the data falls within three standard deviations of the mean .\n",
    "\n",
    "This implies that the data points in the tails, which are more than three standard deviations away from the mean, represent the least frequent occurrences in the normal distribution. These data points are the extreme values of the distribution and are considered rare occurrences based on the properties of the standard normal distribution."
   ]
  },
  {
   "cell_type": "code",
   "execution_count": null,
   "id": "7dfbe79e-39e1-4305-8fdd-a5b47971ccd4",
   "metadata": {},
   "outputs": [],
   "source": []
  }
 ],
 "metadata": {
  "kernelspec": {
   "display_name": "Python 3 (ipykernel)",
   "language": "python",
   "name": "python3"
  },
  "language_info": {
   "codemirror_mode": {
    "name": "ipython",
    "version": 3
   },
   "file_extension": ".py",
   "mimetype": "text/x-python",
   "name": "python",
   "nbconvert_exporter": "python",
   "pygments_lexer": "ipython3",
   "version": "3.10.8"
  }
 },
 "nbformat": 4,
 "nbformat_minor": 5
}
