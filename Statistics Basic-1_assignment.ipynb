{
 "cells": [
  {
   "cell_type": "markdown",
   "id": "2074d187-9b58-4e89-8bf1-ba1392b7923d",
   "metadata": {},
   "source": [
    "Q1. What is Statistics?"
   ]
  },
  {
   "cell_type": "markdown",
   "id": "ca03e497-ccfc-4977-8553-c82ea28f1793",
   "metadata": {},
   "source": [
    "A1. \n",
    "Statistics is a branch of mathematics that deals with the collection, analysis, interpretation, presentation, and organization of data. It provides methods for gathering, reviewing, understanding, and drawing conclusions from data. The primary goal of statistics is to make inferences or decisions about a population based on a sample."
   ]
  },
  {
   "cell_type": "markdown",
   "id": "3de21869-4546-4a2b-8077-c4c6f987fd77",
   "metadata": {},
   "source": [
    "Q2. Define the different types of statistics and give an example of when each type might be used."
   ]
  },
  {
   "cell_type": "markdown",
   "id": "18d3b3e7-b6b1-49e6-b25b-badde271453f",
   "metadata": {},
   "source": [
    "A2. THERE ARE TWO TYPES OF STATISTICS : \n",
    "Descriptive Statistics: It involves the presentation and summary of data in a meaningful way. Example: Summarizing the average income of a population from a survey.\n",
    "\n",
    "Inferential Statistics: It aids in making predictions, decisions, or generalizations about a population based on a sample. Example: Predicting the election outcome based on the results of a pre-election survey."
   ]
  },
  {
   "cell_type": "markdown",
   "id": "b6acef2e-ce57-420f-870f-582e319e32ac",
   "metadata": {},
   "source": [
    "Q3. What are the different types of data and how do they differ from each other? Provide an example of\n",
    "each type of data."
   ]
  },
  {
   "cell_type": "markdown",
   "id": "f16a383c-7beb-49da-8821-dc80fddbc58d",
   "metadata": {},
   "source": [
    "A3. there are two types of data : "
   ]
  },
  {
   "cell_type": "markdown",
   "id": "92edb47a-cc92-4abb-acb2-c23f34dc90ef",
   "metadata": {},
   "source": [
    "-> quantitative data "
   ]
  },
  {
   "cell_type": "markdown",
   "id": "67ac1892-b640-4c0a-9787-fa6af3af0129",
   "metadata": {},
   "source": [
    "-> qualitative data "
   ]
  },
  {
   "cell_type": "markdown",
   "id": "30fed34e-ef02-4258-9b23-3b38aec2c00a",
   "metadata": {},
   "source": [
    "quantitaitve data are those data which are numerical and on which any types of mathematical operation can be applied . quantitative data is further characterised into two parts i.e.. discrete and continious data.whereas , qualitative data are categorical types of data and it is also classified into two types i.e.. nomianl and ordinal data exapmle of quantitaive data is number of student in classroom and example of qualitative data is gender in classroom ."
   ]
  },
  {
   "cell_type": "markdown",
   "id": "5797f083-bb42-4529-8db6-54f19289b302",
   "metadata": {},
   "source": [
    "Q4. Categorise the following datasets with respect to quantitative and qualitative data types:\n",
    "(i) Grading in exam: A+, A, B+, B, C+, C, D, E\n",
    "(ii) Colour of mangoes: yellow, green, orange, red\n",
    "(iii) Height data of a class: [178.9, 179, 179.5, 176, 177.2, 178.3, 175.8,...]\n",
    "(iv) Number of mangoes exported by a farm: [500, 600, 478, 672, ...]"
   ]
  },
  {
   "cell_type": "markdown",
   "id": "21c76653-bed3-4ba3-8e65-69545514a401",
   "metadata": {},
   "source": [
    "A4.  (i) Grading in exam: A+, A, B+, B, C+, C, D, E = qualitative data "
   ]
  },
  {
   "cell_type": "markdown",
   "id": "63c2faa7-e31e-4991-8d0e-3425d1068725",
   "metadata": {},
   "source": [
    "(ii) Colour of mangoes: yellow, green, orange, red = qulitative data "
   ]
  },
  {
   "cell_type": "markdown",
   "id": "0aaef464-61fc-4b0f-84b7-cbaa118f094e",
   "metadata": {},
   "source": [
    "(iii) Height data of a class: [178.9, 179, 179.5, 176, 177.2, 178.3, 175.8,...] = quantative data "
   ]
  },
  {
   "cell_type": "markdown",
   "id": "2a788987-9730-4dc2-a74f-ba844f35e2ee",
   "metadata": {},
   "source": [
    "(iv) Number of mangoes exported by a farm: [500, 600, 478, 672, ...] = quantative data"
   ]
  },
  {
   "cell_type": "markdown",
   "id": "4debf680-d98b-4f7c-ae0a-f3c6f74a9b18",
   "metadata": {},
   "source": [
    "Q5. Explain the concept of levels of measurement and give an example of a variable for each level."
   ]
  },
  {
   "cell_type": "markdown",
   "id": "b44faceb-5d12-4176-a05a-c083d1b1d03a",
   "metadata": {},
   "source": [
    "A5. Levels of measurement refer to the different ways variables can be categorized and measured. There are four main levels of measurement:\n",
    "\n",
    "1. Nominal scale data : This is the simplest level of measurement, involving catagorical data in which rank and order is not important . Examples include gender (male, female), colors (red, blue, green), or types of animals (dog, cat, bird).\n",
    "\n",
    "2. Ordinal scale data: It involves categories with a natural order but without a precise numerical difference between them and rank is important in this . Examples include rankings like education levels (high school, college, graduate), or satisfaction levels (very satisfied, satisfied, dissatisfied).\n",
    "\n",
    "3. Interval scale data : It involves numerical data where the differences between values are meaningful, but there is no true zero point and ratio can't be measured . Examples include temperatures in Celsius or Fahrenheit, where zero doesn't signify the absence of temperature.\n",
    "\n",
    "4. Ratio scale data : It is similar to interval measurement but with a true zero point, indicating the absence of the quantity being measured and ratio difference can be measurable . Examples include height, weight, and age, where a value of zero is meaningful and indicates a complete absence of the measured attribute."
   ]
  },
  {
   "cell_type": "markdown",
   "id": "b334689e-47c3-44c4-b923-fe5847dd6886",
   "metadata": {},
   "source": [
    "Q6. Why is it important to understand the level of measurement when analyzing data? Provide an\n",
    "example to illustrate your answer."
   ]
  },
  {
   "cell_type": "markdown",
   "id": "8c50011f-2039-4d12-b08d-d2f4431901fa",
   "metadata": {},
   "source": [
    "A6. Understanding the level of measurement is crucial in data analysis because it determines the types of statistical analyses that can be performed on the data and influences the appropriate interpretation of results.\n",
    "\n",
    "For instance, when performing arithmetic operations or calculating measures such as mean and standard deviation, it is essential to know the level of measurement. Using these operations on nominal or ordinal data can lead to misleading or meaningless results.\n",
    "\n",
    "For example, considering the variable \"temperature\" measured in different cities, knowing the level of measurement is crucial. If the temperatures are measured on an interval scale, calculating the mean temperature would be meaningful. However, if the temperatures were measured using a nominal scale (e.g., cold, moderate, hot), calculating the mean temperature would not provide any useful information."
   ]
  },
  {
   "cell_type": "markdown",
   "id": "4a04c64b-fefd-44ca-93e4-7ef9333bf02c",
   "metadata": {},
   "source": [
    "Q7. How nominal data type is different from ordinal data type."
   ]
  },
  {
   "cell_type": "markdown",
   "id": "9b7765dd-8075-4293-a210-70c0a76c11ac",
   "metadata": {},
   "source": [
    "A7. NOMINAL data and ordianl data both are qualitative type data but in nominal data the rank is not important and in ordinal data the rank and order  is important "
   ]
  },
  {
   "cell_type": "markdown",
   "id": "f8456706-4c7d-4da2-9c54-5d6561282a2f",
   "metadata": {},
   "source": [
    "Q8. Which type of plot can be used to display data in terms of range?"
   ]
  },
  {
   "cell_type": "markdown",
   "id": "e36aa8ed-65eb-4870-b69e-745c0ef45c13",
   "metadata": {},
   "source": [
    "A8. To display data in terms of range, you can use box plot."
   ]
  },
  {
   "cell_type": "markdown",
   "id": "ec8818a9-3135-4e2b-8e0d-81bfa082a1bb",
   "metadata": {},
   "source": [
    "Q9. Describe the difference between descriptive and inferential statistics. Give an example of each\n",
    "type of statistics and explain how they are used."
   ]
  },
  {
   "cell_type": "markdown",
   "id": "bad5f942-fbb5-4b2a-ac31-6d05765a3f46",
   "metadata": {},
   "source": [
    "A9. Descriptive statistics involves summarizing and presenting data in a meaningful way, often by using measures such as mean, median, and mode. An example could be calculating the average height of students in a classroom. Descriptive statistics are used to provide a clear and concise understanding of the main features of a dataset.\n",
    "\n",
    "Inferential statistics, on the other hand, involves making predictions or generalizations about a population based on a sample. For instance, using the heights of a sample of students to make predictions about the average height of students in the entire school. Inferential statistics are used to draw conclusions or make inferences about a larger group based on a smaller subset of data."
   ]
  },
  {
   "cell_type": "markdown",
   "id": "6083669d-ca02-41c3-976e-d25e79ae259d",
   "metadata": {},
   "source": [
    "Q10. What are some common measures of central tendency and variability used in statistics? Explain\n",
    "how each measure can be used to describe a dataset."
   ]
  },
  {
   "cell_type": "markdown",
   "id": "95215dee-85a5-4751-a09b-e8ce359c351e",
   "metadata": {},
   "source": [
    "A10 . Some of the common measures of central tendency are : mean , median and mode                                                                                                                                -> mean is used to find out the average of the given data in a dataset and it is commonly used on numerical data.                                                                                                  -> median is used to find the data efficiently data when there is any outfiler present in the data . \n",
    "-> mode finds out the data on the dependency of frequency of data in the give data set                                                                                                                            Some of the common measures of variability are : range , standard deviation and variance .                                                                                                                        -> Range: The difference between the maximum and minimum values in a data set.\n",
    "-> Variance: The average of the squared differences from the mean. It measures the spread of a data set.\n",
    "-> Standard Deviation: The square root of the variance. It provides a measure of how much the values in a data set deviate from the mean."
   ]
  }
 ],
 "metadata": {
  "kernelspec": {
   "display_name": "Python 3 (ipykernel)",
   "language": "python",
   "name": "python3"
  },
  "language_info": {
   "codemirror_mode": {
    "name": "ipython",
    "version": 3
   },
   "file_extension": ".py",
   "mimetype": "text/x-python",
   "name": "python",
   "nbconvert_exporter": "python",
   "pygments_lexer": "ipython3",
   "version": "3.10.8"
  }
 },
 "nbformat": 4,
 "nbformat_minor": 5
}
